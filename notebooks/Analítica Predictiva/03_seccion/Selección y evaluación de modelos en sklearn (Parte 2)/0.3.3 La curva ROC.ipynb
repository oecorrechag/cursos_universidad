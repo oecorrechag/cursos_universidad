{
 "cells": [
  {
   "attachments": {},
   "cell_type": "markdown",
   "id": "6bfc8fc6",
   "metadata": {},
   "source": [
    "# 0.3.3 La curva ROC (Receiver operating characteristic)"
   ]
  },
  {
   "cell_type": "code",
   "execution_count": 1,
   "id": "53b57b40",
   "metadata": {},
   "outputs": [],
   "source": [
    "%load_ext autoreload\n",
    "%autoreload 2"
   ]
  },
  {
   "cell_type": "code",
   "execution_count": 2,
   "id": "5fb86f3c",
   "metadata": {},
   "outputs": [],
   "source": [
    "import pandas as pd\n",
    "import numpy as np\n",
    "\n",
    "import matplotlib.pyplot as plt\n",
    "import seaborn as sns\n",
    "\n",
    "from sklearn.datasets import load_iris\n",
    "from sklearn.metrics import plot_confusion_matrix\n",
    "from sklearn.metrics import confusion_matrix, ConfusionMatrixDisplay\n",
    "from sklearn.model_selection import train_test_split\n",
    "from sklearn.svm import SVC\n",
    "\n",
    "\n",
    "pd.set_option('display.max_columns', None)\n",
    "pd.set_option('display.max_rows', None)\n",
    "import warnings\n",
    "warnings.filterwarnings(\"ignore\")"
   ]
  },
  {
   "cell_type": "code",
   "execution_count": 3,
   "id": "c3fcd2fc",
   "metadata": {},
   "outputs": [],
   "source": [
    "import sys\n",
    "sys.path.append(\"../../../../\") \n",
    "\n",
    "import utils.paths as path\n",
    "from utils.paths2 import direcciones"
   ]
  },
  {
   "cell_type": "markdown",
   "id": "8513e901",
   "metadata": {},
   "source": [
    "## 0.3.1.1 Definición\n",
    "\n",
    "Es una matriz que permite visualizar el desempeño de un clasificador. La organización típica es la presentada a continuación:"
   ]
  },
  {
   "cell_type": "code",
   "execution_count": 4,
   "id": "028a6daa",
   "metadata": {},
   "outputs": [
    {
     "data": {
      "text/plain": [
       "array([[10,  1],\n",
       "       [ 3,  1]], dtype=int64)"
      ]
     },
     "execution_count": 4,
     "metadata": {},
     "output_type": "execute_result"
    }
   ],
   "source": [
    "#\n",
    "# Cálculo a partir de los valores reales y los pronósticos\n",
    "#\n",
    "\n",
    "y_true = [0, 1, 0, 0, 1, 0, 0, 0, 0, 1, 0, 1, 0, 0, 0]\n",
    "y_pred = [0, 1, 0, 0, 0, 1, 0, 0, 0, 0, 0, 0, 0, 0, 0]\n",
    "\n",
    "\n",
    "confusion_matrix(\n",
    "    # -------------------------------------------------------------------------\n",
    "    # Ground truth (correct) target values.\n",
    "    y_true=y_true,\n",
    "    # -------------------------------------------------------------------------\n",
    "    # Estimated targets as returned by a classifier.\n",
    "    y_pred=y_pred,\n",
    "    # -------------------------------------------------------------------------\n",
    "    # List of labels to index the matrix.\n",
    "    labels=None,\n",
    "    # -------------------------------------------------------------------------\n",
    "    # Normalizes confusion matrix over the true (rows), predicted (columns)\n",
    "    # conditions or all the population.\n",
    "    # 'true', 'pred', 'all'\n",
    "    normalize=None,\n",
    ")"
   ]
  },
  {
   "cell_type": "code",
   "execution_count": 5,
   "id": "b1b0eff7",
   "metadata": {},
   "outputs": [
    {
     "data": {
      "text/plain": [
       "array([[ 1,  3],\n",
       "       [ 1, 10]], dtype=int64)"
      ]
     },
     "execution_count": 5,
     "metadata": {},
     "output_type": "execute_result"
    }
   ],
   "source": [
    "confusion_matrix(\n",
    "    y_true=y_true,\n",
    "    y_pred=y_pred,\n",
    "    labels=[1, 0],\n",
    "    normalize=None,\n",
    ")"
   ]
  },
  {
   "cell_type": "code",
   "execution_count": 6,
   "id": "40b9c953",
   "metadata": {},
   "outputs": [
    {
     "data": {
      "text/html": [
       "<div>\n",
       "<style scoped>\n",
       "    .dataframe tbody tr th:only-of-type {\n",
       "        vertical-align: middle;\n",
       "    }\n",
       "\n",
       "    .dataframe tbody tr th {\n",
       "        vertical-align: top;\n",
       "    }\n",
       "\n",
       "    .dataframe thead th {\n",
       "        text-align: right;\n",
       "    }\n",
       "</style>\n",
       "<table border=\"1\" class=\"dataframe\">\n",
       "  <thead>\n",
       "    <tr style=\"text-align: right;\">\n",
       "      <th></th>\n",
       "      <th>PP</th>\n",
       "      <th>PF</th>\n",
       "    </tr>\n",
       "  </thead>\n",
       "  <tbody>\n",
       "    <tr>\n",
       "      <th>P</th>\n",
       "      <td>1</td>\n",
       "      <td>3</td>\n",
       "    </tr>\n",
       "    <tr>\n",
       "      <th>F</th>\n",
       "      <td>1</td>\n",
       "      <td>10</td>\n",
       "    </tr>\n",
       "  </tbody>\n",
       "</table>\n",
       "</div>"
      ],
      "text/plain": [
       "   PP  PF\n",
       "P   1   3\n",
       "F   1  10"
      ]
     },
     "execution_count": 6,
     "metadata": {},
     "output_type": "execute_result"
    }
   ],
   "source": [
    "pd.DataFrame(\n",
    "    confusion_matrix(\n",
    "        y_true=y_true,\n",
    "        y_pred=y_pred,\n",
    "        labels=[1, 0],\n",
    "        normalize=None,\n",
    "    ),\n",
    "    columns=[\"PP\", \"PF\"],\n",
    "    index=[\"P\", \"F\"],\n",
    ")\n",
    "\n",
    "#\n",
    "#          | Pronóstico\n",
    "#          |  PP    PN\n",
    "# ---------|------------\n",
    "#       P  |  TP    FN\n",
    "# Real     |\n",
    "#       N  |  FP    TN\n",
    "#"
   ]
  },
  {
   "cell_type": "code",
   "execution_count": 7,
   "id": "5062d21b",
   "metadata": {},
   "outputs": [
    {
     "data": {
      "text/plain": [
       "10"
      ]
     },
     "metadata": {},
     "output_type": "display_data"
    },
    {
     "data": {
      "text/plain": [
       "1"
      ]
     },
     "metadata": {},
     "output_type": "display_data"
    },
    {
     "data": {
      "text/plain": [
       "3"
      ]
     },
     "metadata": {},
     "output_type": "display_data"
    },
    {
     "data": {
      "text/plain": [
       "1"
      ]
     },
     "metadata": {},
     "output_type": "display_data"
    }
   ],
   "source": [
    "#\n",
    "# Extracción de los elementos de la matriz de confusión\n",
    "#\n",
    "tn, fp, fn, tp = confusion_matrix(\n",
    "    y_true=y_true,\n",
    "    y_pred=y_pred,\n",
    ").ravel()\n",
    "\n",
    "display(\n",
    "    tn,\n",
    "    fp,\n",
    "    fn,\n",
    "    tp,\n",
    ")"
   ]
  },
  {
   "cell_type": "markdown",
   "id": "dd575ea4",
   "metadata": {},
   "source": [
    "## 0.3.1.2 Matriz de confusión para más de dos clases"
   ]
  },
  {
   "cell_type": "code",
   "execution_count": 8,
   "id": "b689749e",
   "metadata": {},
   "outputs": [
    {
     "data": {
      "text/plain": [
       "array([[37,  0,  0],\n",
       "       [ 0, 24, 10],\n",
       "       [ 0,  1, 40]], dtype=int64)"
      ]
     },
     "execution_count": 8,
     "metadata": {},
     "output_type": "execute_result"
    }
   ],
   "source": [
    "iris = load_iris()\n",
    "X = iris.data\n",
    "y = iris.target\n",
    "class_names = iris.target_names\n",
    "\n",
    "X_train, X_test, y_train, y_test = train_test_split(\n",
    "    X,\n",
    "    y,\n",
    "    random_state=0,\n",
    ")\n",
    "\n",
    "clf = SVC(kernel=\"linear\", C=0.01).fit(X_train, y_train)\n",
    "\n",
    "y_pred = clf.predict(X_train)\n",
    "\n",
    "cm = confusion_matrix(\n",
    "    y_true=y_train,\n",
    "    y_pred=y_pred,\n",
    "    labels=None,\n",
    "    normalize=None,\n",
    ")\n",
    "\n",
    "cm"
   ]
  },
  {
   "cell_type": "markdown",
   "id": "dee160be",
   "metadata": {},
   "source": [
    "## 0.3.1.3 Visualización de la matriz de confusión"
   ]
  },
  {
   "cell_type": "code",
   "execution_count": 9,
   "id": "e191531f",
   "metadata": {},
   "outputs": [
    {
     "data": {
      "image/png": "[encoded data removed]",
      "text/plain": [
       "<Figure size 640x480 with 1 Axes>"
      ]
     },
     "metadata": {},
     "output_type": "display_data"
    }
   ],
   "source": [
    "sns.heatmap(\n",
    "    cm,\n",
    "    cbar=False,\n",
    "    cmap=\"Blues\",\n",
    "    annot=True,\n",
    "    fmt=\"d\",\n",
    ")\n",
    "plt.show()"
   ]
  },
  {
   "cell_type": "code",
   "execution_count": 10,
   "id": "de40c8c1",
   "metadata": {},
   "outputs": [
    {
     "data": {
      "image/png": "[encoded data removed]",
      "text/plain": [
       "<Figure size 640x480 with 2 Axes>"
      ]
     },
     "metadata": {},
     "output_type": "display_data"
    }
   ],
   "source": [
    "confusionMatrixDisplay = ConfusionMatrixDisplay(\n",
    "    # -------------------------------------------------------------------------\n",
    "    # Confusion matrix.\n",
    "    confusion_matrix=cm,\n",
    "    # -------------------------------------------------------------------------\n",
    "    # Display labels for plot. If None, display labels are set from 0 to\n",
    "    # n_classes - 1.\n",
    "    display_labels=clf.classes_,\n",
    ")\n",
    "\n",
    "confusionMatrixDisplay.plot(cmap=\"Blues\")\n",
    "plt.show()"
   ]
  },
  {
   "cell_type": "markdown",
   "id": "4a6f4523",
   "metadata": {},
   "source": [
    "## 0.3.1.4 Normalización"
   ]
  },
  {
   "cell_type": "code",
   "execution_count": 11,
   "id": "017109a2",
   "metadata": {},
   "outputs": [
    {
     "data": {
      "image/png": "[encoded data removed]",
      "text/plain": [
       "<Figure size 640x480 with 2 Axes>"
      ]
     },
     "metadata": {},
     "output_type": "display_data"
    }
   ],
   "source": [
    "#\n",
    "# Normalización sobre las filas (true)\n",
    "#\n",
    "ConfusionMatrixDisplay(\n",
    "    confusion_matrix=confusion_matrix(\n",
    "        y_true=y_train,\n",
    "        y_pred=y_pred,\n",
    "        normalize=\"true\",\n",
    "    ),\n",
    "    display_labels=clf.classes_,\n",
    ").plot(cmap=\"Blues\")\n",
    "plt.show()"
   ]
  },
  {
   "cell_type": "code",
   "execution_count": 12,
   "id": "c8280f92",
   "metadata": {},
   "outputs": [
    {
     "data": {
      "image/png": "[encoded data removed]",
      "text/plain": [
       "<Figure size 640x480 with 2 Axes>"
      ]
     },
     "metadata": {},
     "output_type": "display_data"
    }
   ],
   "source": [
    "#\n",
    "# Normalización sobre las columnas (pred)\n",
    "#\n",
    "ConfusionMatrixDisplay(\n",
    "    confusion_matrix=confusion_matrix(\n",
    "        y_true=y_train,\n",
    "        y_pred=y_pred,\n",
    "        normalize=\"pred\",\n",
    "    ),\n",
    "    display_labels=clf.classes_,\n",
    ").plot(cmap=\"Blues\")\n",
    "plt.show()"
   ]
  },
  {
   "cell_type": "code",
   "execution_count": 13,
   "id": "4ccd4057",
   "metadata": {},
   "outputs": [
    {
     "data": {
      "image/png": "[encoded data removed]",
      "text/plain": [
       "<Figure size 640x480 with 2 Axes>"
      ]
     },
     "metadata": {},
     "output_type": "display_data"
    }
   ],
   "source": [
    "#\n",
    "# Normalización sobre todos los datos\n",
    "#\n",
    "ConfusionMatrixDisplay(\n",
    "    confusion_matrix=confusion_matrix(\n",
    "        y_true=y_train,\n",
    "        y_pred=y_pred,\n",
    "        normalize=\"all\",\n",
    "    ),\n",
    "    display_labels=clf.classes_,\n",
    ").plot(cmap=\"Blues\")\n",
    "plt.show()"
   ]
  },
  {
   "cell_type": "code",
   "execution_count": 14,
   "id": "55e0489e",
   "metadata": {},
   "outputs": [
    {
     "name": "stdout",
     "output_type": "stream",
     "text": [
      "ok_\n"
     ]
    }
   ],
   "source": [
    "print('ok_')"
   ]
  }
 ],
 "metadata": {
  "kernelspec": {
   "display_name": "Python 3 (ipykernel)",
   "language": "python",
   "name": "python3"
  },
  "language_info": {
   "codemirror_mode": {
    "name": "ipython",
    "version": 3
   },
   "file_extension": ".py",
   "mimetype": "text/x-python",
   "name": "python",
   "nbconvert_exporter": "python",
   "pygments_lexer": "ipython3",
   "version": "3.11.0 (main, Oct 24 2022, 18:26:48) [MSC v.1933 64 bit (AMD64)]"
  },
  "vscode": {
   "interpreter": {
    "hash": "5238573367df39f7286bb46f9ff5f08f63a01a80960060ce41e3c79b190280fa"
   }
  }
 },
 "nbformat": 4,
 "nbformat_minor": 5
}
