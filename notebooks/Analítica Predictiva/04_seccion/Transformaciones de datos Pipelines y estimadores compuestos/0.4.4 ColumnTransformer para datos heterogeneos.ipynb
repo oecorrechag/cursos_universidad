{
 "cells": [
  {
   "attachments": {},
   "cell_type": "markdown",
   "id": "6bfc8fc6",
   "metadata": {},
   "source": [
    "# 0.4.3 Aplicación en paralelo de transformadores usando FeatureUnion"
   ]
  },
  {
   "cell_type": "code",
   "execution_count": 1,
   "id": "53b57b40",
   "metadata": {},
   "outputs": [],
   "source": [
    "%load_ext autoreload\n",
    "%autoreload 2"
   ]
  },
  {
   "cell_type": "code",
   "execution_count": 5,
   "id": "5fb86f3c",
   "metadata": {},
   "outputs": [],
   "source": [
    "import pandas as pd\n",
    "import numpy as np\n",
    "\n",
    "import matplotlib.pyplot as plt\n",
    "import seaborn as sns\n",
    "\n",
    "from sklearn.datasets import load_iris\n",
    "from sklearn.decomposition import PCA\n",
    "from sklearn.feature_selection import SelectKBest\n",
    "from sklearn.model_selection import GridSearchCV\n",
    "from sklearn.pipeline import FeatureUnion, Pipeline\n",
    "from sklearn.svm import SVC\n",
    "\n",
    "pd.set_option('display.max_columns', None)\n",
    "pd.set_option('display.max_rows', None)\n",
    "import warnings\n",
    "warnings.filterwarnings(\"ignore\")"
   ]
  },
  {
   "cell_type": "code",
   "execution_count": 3,
   "id": "c3fcd2fc",
   "metadata": {},
   "outputs": [],
   "source": [
    "import sys\n",
    "sys.path.append(\"../../../../\") \n",
    "\n",
    "import utils.paths as path\n",
    "from utils.paths2 import direcciones"
   ]
  },
  {
   "attachments": {},
   "cell_type": "markdown",
   "id": "8513e901",
   "metadata": {},
   "source": [
    "## 0.4.3.1 Aplicación en paralelo de transformadores usando FeatureUnion\n",
    "\n",
    "https://www.youtube.com/watch?v=F3J5-uTnhKQ\n",
    "\n",
    "\n",
    "- Permite unir una lista de transformadores en un nuevo transformador que combina sus salidas.\n",
    "- Durante el proceso de entrenamiento, cada uno de los transformadores es entrenado independientemente.\n",
    "- Los transformadores son aplicados en paralelo al set de datos, y las salidas son concatenadas lado a lado en una matriz.\n",
    "- La combinación de FeatureUnion y Pipeline permite crear modelos complejos.\n",
    "\n",
    "https://scikit-learn.org/stable/auto_examples/compose/plot_feature_union.html#sphx-glr-auto-examples-compose-plot-feature-union-py"
   ]
  },
  {
   "cell_type": "code",
   "execution_count": 6,
   "id": "7a231371",
   "metadata": {},
   "outputs": [
    {
     "data": {
      "text/plain": [
       "(150, 3)"
      ]
     },
     "execution_count": 6,
     "metadata": {},
     "output_type": "execute_result"
    }
   ],
   "source": [
    "iris = load_iris()\n",
    "\n",
    "X, y = iris.data, iris.target\n",
    "\n",
    "#\n",
    "# Crea un PCA que extrae unicamente dos (2) componentes\n",
    "#\n",
    "pca = PCA(n_components=2)\n",
    "\n",
    "#\n",
    "# Crea un transformador que selecciona únicamente la mejor característica\n",
    "#\n",
    "selection = SelectKBest(k=1)\n",
    "\n",
    "#\n",
    "# Crea la unión\n",
    "#\n",
    "combined_features = FeatureUnion(\n",
    "    [\n",
    "        (\"pca\", pca),\n",
    "        (\"univ_select\", selection),\n",
    "    ]\n",
    ")\n",
    "\n",
    "#\n",
    "# Crea un nuevo vector de variables independientes que usando FeatureUnion\n",
    "#\n",
    "X_features = combined_features.fit(X, y).transform(X)\n",
    "X_features.shape"
   ]
  },
  {
   "cell_type": "code",
   "execution_count": 7,
   "id": "bcd035ac",
   "metadata": {},
   "outputs": [
    {
     "data": {
      "text/plain": [
       "{'features__pca__n_components': 3, 'features__univ_select__k': 1, 'svm__C': 10}"
      ]
     },
     "execution_count": 7,
     "metadata": {},
     "output_type": "execute_result"
    }
   ],
   "source": [
    "#\n",
    "# Crea el modelo de regresión\n",
    "#\n",
    "svm = SVC(kernel=\"linear\")\n",
    "\n",
    "#\n",
    "# Crea un pipeline\n",
    "#\n",
    "pipeline = Pipeline(\n",
    "    [\n",
    "        (\"features\", combined_features),\n",
    "        (\"svm\", svm),\n",
    "    ]\n",
    ")\n",
    "\n",
    "#\n",
    "# Búsqueda de la mejor combinación de hiperparámetros usando GridSearchCV\n",
    "#\n",
    "param_grid = dict(\n",
    "    features__pca__n_components=[1, 2, 3],\n",
    "    features__univ_select__k=[1, 2],\n",
    "    svm__C=[0.1, 1, 10],\n",
    ")\n",
    "\n",
    "gridSearchCV = GridSearchCV(\n",
    "    pipeline,\n",
    "    param_grid=param_grid,\n",
    ")\n",
    "\n",
    "gridSearchCV.fit(X, y)\n",
    "\n",
    "gridSearchCV.best_params_"
   ]
  },
  {
   "cell_type": "code",
   "execution_count": null,
   "id": "6f2f003d",
   "metadata": {},
   "outputs": [],
   "source": [
    "print('ok_')"
   ]
  }
 ],
 "metadata": {
  "kernelspec": {
   "display_name": "Python 3 (ipykernel)",
   "language": "python",
   "name": "python3"
  },
  "language_info": {
   "codemirror_mode": {
    "name": "ipython",
    "version": 3
   },
   "file_extension": ".py",
   "mimetype": "text/x-python",
   "name": "python",
   "nbconvert_exporter": "python",
   "pygments_lexer": "ipython3",
   "version": "3.11.0 (main, Oct 24 2022, 18:26:48) [MSC v.1933 64 bit (AMD64)]"
  },
  "vscode": {
   "interpreter": {
    "hash": "5238573367df39f7286bb46f9ff5f08f63a01a80960060ce41e3c79b190280fa"
   }
  }
 },
 "nbformat": 4,
 "nbformat_minor": 5
}
