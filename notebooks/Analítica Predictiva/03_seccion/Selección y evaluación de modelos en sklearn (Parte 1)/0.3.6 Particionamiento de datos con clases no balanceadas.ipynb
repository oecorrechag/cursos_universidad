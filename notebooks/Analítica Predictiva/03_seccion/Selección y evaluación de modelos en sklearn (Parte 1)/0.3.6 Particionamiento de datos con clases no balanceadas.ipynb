{
 "cells": [
  {
   "cell_type": "markdown",
   "id": "6bfc8fc6",
   "metadata": {},
   "source": [
    "# 0.3.6 Particionamiento de datos con clases no balanceadas"
   ]
  },
  {
   "cell_type": "code",
   "execution_count": 1,
   "id": "53b57b40",
   "metadata": {},
   "outputs": [],
   "source": [
    "%load_ext autoreload\n",
    "%autoreload 2"
   ]
  },
  {
   "cell_type": "code",
   "execution_count": 2,
   "id": "5fb86f3c",
   "metadata": {},
   "outputs": [],
   "source": [
    "import pandas as pd\n",
    "import numpy as np\n",
    "\n",
    "import math\n",
    "import matplotlib.pyplot as plt\n",
    "\n",
    "from sklearn.model_selection import StratifiedKFold, StratifiedShuffleSplit\n",
    "\n",
    "pd.set_option('display.max_columns', None)\n",
    "pd.set_option('display.max_rows', None)\n",
    "import warnings\n",
    "warnings.filterwarnings(\"ignore\")"
   ]
  },
  {
   "cell_type": "code",
   "execution_count": 3,
   "id": "c3fcd2fc",
   "metadata": {},
   "outputs": [],
   "source": [
    "import sys\n",
    "sys.path.append(\"../../../../\") \n",
    "\n",
    "import utils.paths as path\n",
    "from utils.paths2 import direcciones"
   ]
  },
  {
   "attachments": {},
   "cell_type": "markdown",
   "id": "63fa66a3",
   "metadata": {},
   "source": [
    "## 0.3.6.1 StratifedKFold\n",
    "\n",
    "Se usa en problemas de clasificación en los que la distribución porcentual de las clases en los grupos de entrenamiento y prueba son similares a los de la muestra original."
   ]
  },
  {
   "cell_type": "code",
   "execution_count": 4,
   "id": "fea99a24",
   "metadata": {},
   "outputs": [
    {
     "data": {
      "text/plain": [
       "StratifiedKFold(n_splits=4, random_state=None, shuffle=False)"
      ]
     },
     "execution_count": 4,
     "metadata": {},
     "output_type": "execute_result"
    }
   ],
   "source": [
    "y_classes = [0] * 16 + [1] * 4\n",
    "\n",
    "stratifiedKFold = StratifiedKFold(n_splits=4)\n",
    "stratifiedKFold"
   ]
  },
  {
   "attachments": {
    "image.png": {
     "image/png": "[encoded data removed]"
    }
   },
   "cell_type": "markdown",
   "id": "d1632398",
   "metadata": {},
   "source": [
    "![image.png](attachment:image.png)\n",
    "\n",
    "## 0.3.6.2 StratifiedShuffleSplit"
   ]
  },
  {
   "cell_type": "code",
   "execution_count": 5,
   "id": "fadb6532",
   "metadata": {},
   "outputs": [
    {
     "data": {
      "text/plain": [
       "StratifiedShuffleSplit(n_splits=8, random_state=1234, test_size=4,\n",
       "            train_size=None)"
      ]
     },
     "execution_count": 5,
     "metadata": {},
     "output_type": "execute_result"
    }
   ],
   "source": [
    "stratifiedShuffleSplit = StratifiedShuffleSplit(\n",
    "    n_splits=8,\n",
    "    test_size=4,\n",
    "    train_size=None,\n",
    "    random_state=1234,\n",
    ")\n",
    "stratifiedShuffleSplit"
   ]
  },
  {
   "attachments": {
    "image-2.png": {
     "image/png": "[encoded data removed]"
    }
   },
   "cell_type": "markdown",
   "id": "868cb0ae",
   "metadata": {},
   "source": [
    "![image-2.png](attachment:image-2.png)"
   ]
  },
  {
   "cell_type": "code",
   "execution_count": 6,
   "id": "55e0489e",
   "metadata": {},
   "outputs": [
    {
     "name": "stdout",
     "output_type": "stream",
     "text": [
      "ok_\n"
     ]
    }
   ],
   "source": [
    "print('ok_')"
   ]
  }
 ],
 "metadata": {
  "kernelspec": {
   "display_name": "Python 3 (ipykernel)",
   "language": "python",
   "name": "python3"
  },
  "language_info": {
   "codemirror_mode": {
    "name": "ipython",
    "version": 3
   },
   "file_extension": ".py",
   "mimetype": "text/x-python",
   "name": "python",
   "nbconvert_exporter": "python",
   "pygments_lexer": "ipython3",
   "version": "3.9.12"
  },
  "vscode": {
   "interpreter": {
    "hash": "5238573367df39f7286bb46f9ff5f08f63a01a80960060ce41e3c79b190280fa"
   }
  }
 },
 "nbformat": 4,
 "nbformat_minor": 5
}
