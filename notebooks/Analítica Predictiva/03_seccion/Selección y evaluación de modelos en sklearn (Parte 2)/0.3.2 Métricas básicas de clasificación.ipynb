{
 "cells": [
  {
   "attachments": {},
   "cell_type": "markdown",
   "id": "6bfc8fc6",
   "metadata": {},
   "source": [
    "# 0.3.2 Métricas básicas de clasificación"
   ]
  },
  {
   "cell_type": "code",
   "execution_count": 1,
   "id": "53b57b40",
   "metadata": {},
   "outputs": [],
   "source": [
    "%load_ext autoreload\n",
    "%autoreload 2"
   ]
  },
  {
   "cell_type": "code",
   "execution_count": 30,
   "id": "5fb86f3c",
   "metadata": {},
   "outputs": [],
   "source": [
    "import pandas as pd\n",
    "import numpy as np\n",
    "\n",
    "import matplotlib.pyplot as plt\n",
    "import seaborn as sns\n",
    "\n",
    "from sklearn.metrics import confusion_matrix, accuracy_score, recall_score, precision_score, balanced_accuracy_score, f1_score, fbeta_score, classification_report\n",
    "from sklearn.metrics import get_scorer\n",
    "\n",
    "pd.set_option(\"display.notebook_repr_html\", False)\n",
    "pd.set_option('display.max_columns', None)\n",
    "pd.set_option('display.max_rows', None)\n",
    "import warnings\n",
    "warnings.filterwarnings(\"ignore\")"
   ]
  },
  {
   "cell_type": "code",
   "execution_count": 3,
   "id": "c3fcd2fc",
   "metadata": {},
   "outputs": [],
   "source": [
    "import sys\n",
    "sys.path.append(\"../../../../\") \n",
    "\n",
    "import utils.paths as path\n",
    "from utils.paths2 import direcciones"
   ]
  },
  {
   "attachments": {
    "image.png": {
     "image/png": "[encoded data removed]"
    }
   },
   "cell_type": "markdown",
   "id": "8513e901",
   "metadata": {},
   "source": [
    "## 0.3.2.1 Componentes de la matriz de confusión\n",
    "\n",
    "![image.png](attachment:image.png)\n",
    "\n",
    " P - Positive                 TP - Verdadero positivo (correcto)\n",
    " N - Negative                 TN - Verdadero negativo (correcto)\n",
    "PP - Predicted Positive       FN - Falso negativo (mal clasificado)\n",
    "PN - Predicted Negative       FP - Falso positivo (mal clasificado)"
   ]
  },
  {
   "cell_type": "code",
   "execution_count": 5,
   "id": "fd21b2ce",
   "metadata": {},
   "outputs": [
    {
     "data": {
      "text/plain": [
       "      PP=2  PN=13\n",
       "P=4      1      3\n",
       "N=11     1     10"
      ]
     },
     "execution_count": 5,
     "metadata": {},
     "output_type": "execute_result"
    }
   ],
   "source": [
    "y_true = [0, 1, 0, 0, 1, 0, 0, 0, 0, 1, 0, 1, 0, 0, 0]\n",
    "y_pred = [0, 1, 0, 0, 0, 1, 0, 0, 0, 0, 0, 0, 0, 0, 0]\n",
    "\n",
    "pd.DataFrame(\n",
    "    confusion_matrix(\n",
    "        y_true=y_true,\n",
    "        y_pred=y_pred,\n",
    "        labels=[1, 0],\n",
    "        normalize=None,\n",
    "    ),\n",
    "    columns=[\n",
    "        \"PP={}\".format(sum(y_pred)),\n",
    "        \"PN={}\".format(len(y_pred) - sum(y_pred)),\n",
    "    ],\n",
    "    index=[\n",
    "        \"P={}\".format(sum(y_true)),\n",
    "        \"N={}\".format(len(y_true) - sum(y_true)),\n",
    "    ],\n",
    ")"
   ]
  },
  {
   "attachments": {
    "image.png": {
     "image/png": "[encoded data removed]"
    }
   },
   "cell_type": "markdown",
   "id": "8e0a1dc6",
   "metadata": {},
   "source": [
    "## 0.3.2.2 Accuracy Classification Score\n",
    "\n",
    "![image.png](attachment:image.png)"
   ]
  },
  {
   "cell_type": "code",
   "execution_count": 7,
   "id": "28645617",
   "metadata": {},
   "outputs": [
    {
     "data": {
      "text/plain": [
       "0.7333333333333333"
      ]
     },
     "execution_count": 7,
     "metadata": {},
     "output_type": "execute_result"
    }
   ],
   "source": [
    "accuracy_score(\n",
    "    # -------------------------------------------------------------------------\n",
    "    # Ground truth (correct) labels.\n",
    "    y_true=y_true,\n",
    "    # -------------------------------------------------------------------------\n",
    "    # Predicted labels, as returned by a classifier.\n",
    "    y_pred=y_pred,\n",
    "    # -------------------------------------------------------------------------\n",
    "    # If False, return the number of correctly classified samples. Otherwise,\n",
    "    # return the fraction of correctly classified samples.\n",
    "    normalize=True,\n",
    ")"
   ]
  },
  {
   "cell_type": "code",
   "execution_count": 14,
   "id": "2333c3e1",
   "metadata": {},
   "outputs": [
    {
     "data": {
      "text/plain": [
       "0.7333333333333333"
      ]
     },
     "execution_count": 14,
     "metadata": {},
     "output_type": "execute_result"
    }
   ],
   "source": [
    "accuracy = get_scorer(\"accuracy\")\n",
    "accuracy._score_func(y_true, y_pred)"
   ]
  },
  {
   "cell_type": "code",
   "execution_count": 8,
   "id": "4dbe9682",
   "metadata": {},
   "outputs": [
    {
     "data": {
      "text/plain": [
       "11"
      ]
     },
     "execution_count": 8,
     "metadata": {},
     "output_type": "execute_result"
    }
   ],
   "source": [
    "accuracy_score(\n",
    "    y_true=y_true,\n",
    "    y_pred=y_pred,\n",
    "    normalize=False,\n",
    ")"
   ]
  },
  {
   "attachments": {
    "image.png": {
     "image/png": "[encoded data removed]"
    }
   },
   "cell_type": "markdown",
   "id": "07bbaf89",
   "metadata": {},
   "source": [
    "## 0.3.2.3 True Positive Rate / recall_score\n",
    "\n",
    "Es el porcentaje de casos pronosticados como positivos del total de casos realmente positivos. También se interpreta como la habilidad del clasificador para encontrar todos los casos relevantes.\n",
    "\n",
    "![image.png](attachment:image.png)"
   ]
  },
  {
   "cell_type": "code",
   "execution_count": 15,
   "id": "f21ee8a3",
   "metadata": {},
   "outputs": [
    {
     "data": {
      "text/plain": [
       "0.25"
      ]
     },
     "execution_count": 15,
     "metadata": {},
     "output_type": "execute_result"
    }
   ],
   "source": [
    "recall_score(y_true, y_pred)"
   ]
  },
  {
   "cell_type": "code",
   "execution_count": 16,
   "id": "8bf79aef",
   "metadata": {},
   "outputs": [
    {
     "data": {
      "text/plain": [
       "0.25"
      ]
     },
     "execution_count": 16,
     "metadata": {},
     "output_type": "execute_result"
    }
   ],
   "source": [
    "recall = get_scorer(\"recall\")\n",
    "recall._score_func(y_true, y_pred)"
   ]
  },
  {
   "attachments": {
    "image-2.png": {
     "image/png": "[encoded data removed]"
    },
    "image.png": {
     "image/png": "[encoded data removed]"
    }
   },
   "cell_type": "markdown",
   "id": "b9595cda",
   "metadata": {},
   "source": [
    "## 0.3.2.4 True Negative Rate\n",
    "\n",
    "![image.png](attachment:image.png)\n",
    "\n",
    "## 0.3.2.5 Precision Score\n",
    "\n",
    "![image.png](attachment:image-2.png)"
   ]
  },
  {
   "cell_type": "code",
   "execution_count": 19,
   "id": "ebbcc931",
   "metadata": {},
   "outputs": [
    {
     "data": {
      "text/plain": [
       "0.5"
      ]
     },
     "execution_count": 19,
     "metadata": {},
     "output_type": "execute_result"
    }
   ],
   "source": [
    "precision_score(y_true, y_pred)"
   ]
  },
  {
   "cell_type": "code",
   "execution_count": 20,
   "id": "8fe43a27",
   "metadata": {},
   "outputs": [
    {
     "data": {
      "text/plain": [
       "0.5"
      ]
     },
     "execution_count": 20,
     "metadata": {},
     "output_type": "execute_result"
    }
   ],
   "source": [
    "precision = get_scorer(\"precision\")\n",
    "precision._score_func(y_true, y_pred)"
   ]
  },
  {
   "attachments": {
    "image.png": {
     "image/png": "[encoded data removed]"
    }
   },
   "cell_type": "markdown",
   "id": "1ec5f427",
   "metadata": {},
   "source": [
    "## 0.3.2.6 Balanced Accuracy Score\n",
    "\n",
    "![image.png](attachment:image.png)"
   ]
  },
  {
   "cell_type": "code",
   "execution_count": 23,
   "id": "ace10981",
   "metadata": {},
   "outputs": [
    {
     "data": {
      "text/plain": [
       "0.7333333333333333"
      ]
     },
     "metadata": {},
     "output_type": "display_data"
    },
    {
     "data": {
      "text/plain": [
       "0.5795454545454546"
      ]
     },
     "metadata": {},
     "output_type": "display_data"
    }
   ],
   "source": [
    "display(\n",
    "    accuracy_score(\n",
    "        y_true=y_true,\n",
    "        y_pred=y_pred,\n",
    "        normalize=True,\n",
    "    ),\n",
    "    balanced_accuracy_score(\n",
    "        y_true,\n",
    "        y_pred,\n",
    "    ),\n",
    ")"
   ]
  },
  {
   "attachments": {
    "image-2.png": {
     "image/png": "[encoded data removed]"
    },
    "image.png": {
     "image/png": "[encoded data removed]"
    }
   },
   "cell_type": "markdown",
   "id": "14a1d8f3",
   "metadata": {},
   "source": [
    "## 0.3.2.7 F1 Score\n",
    "\n",
    "![image.png](attachment:image.png)\n",
    "\n",
    "![image.png](attachment:image-2.png)"
   ]
  },
  {
   "cell_type": "code",
   "execution_count": 27,
   "id": "d70062e3",
   "metadata": {},
   "outputs": [
    {
     "data": {
      "text/plain": [
       "0.3333333333333333"
      ]
     },
     "execution_count": 27,
     "metadata": {},
     "output_type": "execute_result"
    }
   ],
   "source": [
    "f1_score(y_true, y_pred)"
   ]
  },
  {
   "attachments": {
    "image.png": {
     "image/png": "[encoded data removed]"
    }
   },
   "cell_type": "markdown",
   "id": "431dbf0b",
   "metadata": {},
   "source": [
    "## 0.3.2.8 F-beta Score\n",
    "\n",
    "Es la media armónica ponderada entre la precisión y la sensibilidad, la cual toma valores entre 0 (peor) y 1 (mejor). Para β < 1 favorece la precisión, mientras que para β > 1 favorece la sensibilidad.\n",
    "\n",
    "![image.png](attachment:image.png)"
   ]
  },
  {
   "cell_type": "code",
   "execution_count": 29,
   "id": "672f883f",
   "metadata": {},
   "outputs": [
    {
     "data": {
      "text/plain": [
       "0.4166666666666667"
      ]
     },
     "metadata": {},
     "output_type": "display_data"
    },
    {
     "data": {
      "text/plain": [
       "0.31443298969072164"
      ]
     },
     "metadata": {},
     "output_type": "display_data"
    }
   ],
   "source": [
    "display(\n",
    "    fbeta_score(y_true, y_pred, beta=0.5),\n",
    "    fbeta_score(y_true, y_pred, beta=1.2),\n",
    ")"
   ]
  },
  {
   "attachments": {},
   "cell_type": "markdown",
   "id": "5ef4553d",
   "metadata": {},
   "source": [
    "## 0.3.2.9 Classification report"
   ]
  },
  {
   "cell_type": "code",
   "execution_count": 31,
   "id": "88cd72d2",
   "metadata": {},
   "outputs": [
    {
     "name": "stdout",
     "output_type": "stream",
     "text": [
      "              precision    recall  f1-score   support\n",
      "\n",
      "           0       0.77      0.91      0.83        11\n",
      "           1       0.50      0.25      0.33         4\n",
      "\n",
      "    accuracy                           0.73        15\n",
      "   macro avg       0.63      0.58      0.58        15\n",
      "weighted avg       0.70      0.73      0.70        15\n",
      "\n"
     ]
    }
   ],
   "source": [
    "print(classification_report(y_true, y_pred))"
   ]
  },
  {
   "cell_type": "code",
   "execution_count": 14,
   "id": "55e0489e",
   "metadata": {},
   "outputs": [
    {
     "name": "stdout",
     "output_type": "stream",
     "text": [
      "ok_\n"
     ]
    }
   ],
   "source": [
    "print('ok_')"
   ]
  }
 ],
 "metadata": {
  "kernelspec": {
   "display_name": "Python 3 (ipykernel)",
   "language": "python",
   "name": "python3"
  },
  "language_info": {
   "codemirror_mode": {
    "name": "ipython",
    "version": 3
   },
   "file_extension": ".py",
   "mimetype": "text/x-python",
   "name": "python",
   "nbconvert_exporter": "python",
   "pygments_lexer": "ipython3",
   "version": "3.11.0"
  },
  "vscode": {
   "interpreter": {
    "hash": "5238573367df39f7286bb46f9ff5f08f63a01a80960060ce41e3c79b190280fa"
   }
  }
 },
 "nbformat": 4,
 "nbformat_minor": 5
}
