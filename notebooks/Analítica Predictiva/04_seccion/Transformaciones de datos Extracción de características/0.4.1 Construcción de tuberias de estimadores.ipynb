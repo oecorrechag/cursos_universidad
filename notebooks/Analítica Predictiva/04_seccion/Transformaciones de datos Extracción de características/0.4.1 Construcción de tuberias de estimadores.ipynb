{
 "cells": [
  {
   "attachments": {},
   "cell_type": "markdown",
   "id": "6bfc8fc6",
   "metadata": {},
   "source": [
    "# 0.4.1 Carga de características desde diccionarios usando DictVectorizer"
   ]
  },
  {
   "cell_type": "code",
   "execution_count": 1,
   "id": "53b57b40",
   "metadata": {},
   "outputs": [],
   "source": [
    "%load_ext autoreload\n",
    "%autoreload 2"
   ]
  },
  {
   "cell_type": "code",
   "execution_count": 4,
   "id": "5fb86f3c",
   "metadata": {},
   "outputs": [],
   "source": [
    "import pandas as pd\n",
    "import numpy as np\n",
    "\n",
    "import matplotlib.pyplot as plt\n",
    "import seaborn as sns\n",
    "\n",
    "from sklearn.feature_extraction import DictVectorizer\n",
    "\n",
    "pd.set_option('display.max_columns', None)\n",
    "pd.set_option('display.max_rows', None)\n",
    "import warnings\n",
    "warnings.filterwarnings(\"ignore\")"
   ]
  },
  {
   "cell_type": "code",
   "execution_count": 3,
   "id": "c3fcd2fc",
   "metadata": {},
   "outputs": [],
   "source": [
    "import sys\n",
    "sys.path.append(\"../../../../\") \n",
    "\n",
    "import utils.paths as path\n",
    "from utils.paths2 import direcciones"
   ]
  },
  {
   "attachments": {},
   "cell_type": "markdown",
   "id": "8513e901",
   "metadata": {},
   "source": [
    "## 0.4.1.1 Carga de características desde diccionarios usando DictVectorizer\n",
    "\n",
    "\n",
    "\n",
    "La clase DictVectorizer permite convertir vectores de características representados como diccionarios a matrices que pueden ser usadas por los estimadores de sklearn."
   ]
  },
  {
   "cell_type": "code",
   "execution_count": 5,
   "id": "872e475a",
   "metadata": {},
   "outputs": [
    {
     "data": {
      "text/plain": [
       "array([[ 1.,  0.,  0., 33.],\n",
       "       [ 0.,  1.,  0., 12.],\n",
       "       [ 0.,  0.,  1., 18.]])"
      ]
     },
     "execution_count": 5,
     "metadata": {},
     "output_type": "execute_result"
    }
   ],
   "source": [
    "#\n",
    "# Cada diccionario representa una fila del dataset\n",
    "#\n",
    "measurements = [\n",
    "    {\"city\": \"Dubai\", \"temperature\": 33.0},\n",
    "    {\"city\": \"London\", \"temperature\": 12.0},\n",
    "    {\"city\": \"San Francisco\", \"temperature\": 18.0},\n",
    "]\n",
    "\n",
    "#\n",
    "# Creación de una instancia\n",
    "#\n",
    "dictVectorizer = DictVectorizer(\n",
    "    # -------------------------------------------------------------------------\n",
    "    # Separator string used when constructing new features for one-hot coding.\n",
    "    separator=\"=\",\n",
    "    # -------------------------------------------------------------------------\n",
    "    # Whether feature_names_ and vocabulary_ should be sorted when fitting.\n",
    "    sort=True,\n",
    ")\n",
    "\n",
    "#\n",
    "# Entrenamiento\n",
    "#\n",
    "dictVectorizer.fit(measurements)\n",
    "\n",
    "#\n",
    "# Transformación\n",
    "#\n",
    "X = dictVectorizer.transform(measurements).toarray()\n",
    "X"
   ]
  },
  {
   "cell_type": "code",
   "execution_count": null,
   "id": "ec5138bb",
   "metadata": {},
   "outputs": [],
   "source": []
  },
  {
   "cell_type": "code",
   "execution_count": null,
   "id": "a0bcc52f",
   "metadata": {},
   "outputs": [],
   "source": []
  },
  {
   "cell_type": "code",
   "execution_count": null,
   "id": "ab966fdf",
   "metadata": {},
   "outputs": [],
   "source": []
  },
  {
   "cell_type": "code",
   "execution_count": null,
   "id": "434888c2",
   "metadata": {},
   "outputs": [],
   "source": [
    "print('ok_')"
   ]
  }
 ],
 "metadata": {
  "kernelspec": {
   "display_name": "Python 3 (ipykernel)",
   "language": "python",
   "name": "python3"
  },
  "language_info": {
   "codemirror_mode": {
    "name": "ipython",
    "version": 3
   },
   "file_extension": ".py",
   "mimetype": "text/x-python",
   "name": "python",
   "nbconvert_exporter": "python",
   "pygments_lexer": "ipython3",
   "version": "3.11.0"
  },
  "vscode": {
   "interpreter": {
    "hash": "5238573367df39f7286bb46f9ff5f08f63a01a80960060ce41e3c79b190280fa"
   }
  }
 },
 "nbformat": 4,
 "nbformat_minor": 5
}
