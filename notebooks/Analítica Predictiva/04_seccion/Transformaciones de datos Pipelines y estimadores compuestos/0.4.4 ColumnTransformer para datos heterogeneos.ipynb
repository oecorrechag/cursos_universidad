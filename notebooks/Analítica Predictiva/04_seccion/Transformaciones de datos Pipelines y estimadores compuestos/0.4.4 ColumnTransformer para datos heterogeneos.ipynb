{
 "cells": [
  {
   "attachments": {},
   "cell_type": "markdown",
   "id": "6bfc8fc6",
   "metadata": {},
   "source": [
    "# 0.4.4 ColumnTransformer para datos heterogeneos\n",
    "\n",
    "https://www.youtube.com/watch?v=F1o4BIuhaf4\n",
    "\n",
    "https://scikit-learn.org/stable/modules/compose.html#columntransformer-for-heterogeneous-data"
   ]
  },
  {
   "cell_type": "code",
   "execution_count": 17,
   "id": "53b57b40",
   "metadata": {},
   "outputs": [
    {
     "name": "stdout",
     "output_type": "stream",
     "text": [
      "The autoreload extension is already loaded. To reload it, use:\n",
      "  %reload_ext autoreload\n"
     ]
    }
   ],
   "source": [
    "%load_ext autoreload\n",
    "%autoreload 2"
   ]
  },
  {
   "cell_type": "code",
   "execution_count": 18,
   "id": "5fb86f3c",
   "metadata": {},
   "outputs": [],
   "source": [
    "import pandas as pd\n",
    "import numpy as np\n",
    "\n",
    "import matplotlib.pyplot as plt\n",
    "import seaborn as sns\n",
    "\n",
    "from sklearn.compose import ColumnTransformer\n",
    "from sklearn.compose import make_column_selector\n",
    "from sklearn.compose import make_column_transformer\n",
    "from sklearn.feature_extraction.text import CountVectorizer\n",
    "from sklearn.preprocessing import OneHotEncoder\n",
    "from sklearn.preprocessing import StandardScaler\n",
    "from sklearn.preprocessing import MinMaxScaler\n",
    "\n",
    "\n",
    "pd.set_option('display.max_columns', None)\n",
    "pd.set_option('display.max_rows', None)\n",
    "import warnings\n",
    "warnings.filterwarnings(\"ignore\")"
   ]
  },
  {
   "cell_type": "code",
   "execution_count": 19,
   "id": "c3fcd2fc",
   "metadata": {},
   "outputs": [],
   "source": [
    "import sys\n",
    "sys.path.append(\"../../../../\") \n",
    "\n",
    "import utils.paths as path\n",
    "from utils.paths2 import direcciones"
   ]
  },
  {
   "attachments": {},
   "cell_type": "markdown",
   "id": "8513e901",
   "metadata": {},
   "source": [
    "## 0.4.4.1 Dataset de prueba"
   ]
  },
  {
   "cell_type": "code",
   "execution_count": 20,
   "id": "7a231371",
   "metadata": {},
   "outputs": [
    {
     "data": {
      "text/html": [
       "<div>\n",
       "<style scoped>\n",
       "    .dataframe tbody tr th:only-of-type {\n",
       "        vertical-align: middle;\n",
       "    }\n",
       "\n",
       "    .dataframe tbody tr th {\n",
       "        vertical-align: top;\n",
       "    }\n",
       "\n",
       "    .dataframe thead th {\n",
       "        text-align: right;\n",
       "    }\n",
       "</style>\n",
       "<table border=\"1\" class=\"dataframe\">\n",
       "  <thead>\n",
       "    <tr style=\"text-align: right;\">\n",
       "      <th></th>\n",
       "      <th>city</th>\n",
       "      <th>title</th>\n",
       "      <th>expert_rating</th>\n",
       "      <th>user_rating</th>\n",
       "    </tr>\n",
       "  </thead>\n",
       "  <tbody>\n",
       "    <tr>\n",
       "      <th>0</th>\n",
       "      <td>London</td>\n",
       "      <td>His Last Bow</td>\n",
       "      <td>5</td>\n",
       "      <td>4</td>\n",
       "    </tr>\n",
       "    <tr>\n",
       "      <th>1</th>\n",
       "      <td>London</td>\n",
       "      <td>How Watson Learned the Trick</td>\n",
       "      <td>3</td>\n",
       "      <td>5</td>\n",
       "    </tr>\n",
       "    <tr>\n",
       "      <th>2</th>\n",
       "      <td>Paris</td>\n",
       "      <td>A Moveable Feast</td>\n",
       "      <td>4</td>\n",
       "      <td>4</td>\n",
       "    </tr>\n",
       "    <tr>\n",
       "      <th>3</th>\n",
       "      <td>Sallisaw</td>\n",
       "      <td>The Grapes of Wrath</td>\n",
       "      <td>5</td>\n",
       "      <td>3</td>\n",
       "    </tr>\n",
       "  </tbody>\n",
       "</table>\n",
       "</div>"
      ],
      "text/plain": [
       "       city                         title  expert_rating  user_rating\n",
       "0    London                  His Last Bow              5            4\n",
       "1    London  How Watson Learned the Trick              3            5\n",
       "2     Paris              A Moveable Feast              4            4\n",
       "3  Sallisaw           The Grapes of Wrath              5            3"
      ]
     },
     "execution_count": 20,
     "metadata": {},
     "output_type": "execute_result"
    }
   ],
   "source": [
    "#\n",
    "# Creación de un dataframe de prueba\n",
    "#\n",
    "X = pd.DataFrame(\n",
    "    {\n",
    "        \"city\": [\n",
    "            \"London\",\n",
    "            \"London\",\n",
    "            \"Paris\",\n",
    "            \"Sallisaw\",\n",
    "        ],\n",
    "        \"title\": [\n",
    "            \"His Last Bow\",\n",
    "            \"How Watson Learned the Trick\",\n",
    "            \"A Moveable Feast\",\n",
    "            \"The Grapes of Wrath\",\n",
    "        ],\n",
    "        \"expert_rating\": [\n",
    "            5,\n",
    "            3,\n",
    "            4,\n",
    "            5,\n",
    "        ],\n",
    "        \"user_rating\": [\n",
    "            4,\n",
    "            5,\n",
    "            4,\n",
    "            3,\n",
    "        ],\n",
    "    }\n",
    ")\n",
    "\n",
    "X"
   ]
  },
  {
   "attachments": {},
   "cell_type": "markdown",
   "id": "2e64ef0b",
   "metadata": {},
   "source": [
    "## 0.4.4.2 ColumnTransformer"
   ]
  },
  {
   "cell_type": "code",
   "execution_count": 21,
   "id": "bcd035ac",
   "metadata": {},
   "outputs": [
    {
     "data": {
      "text/plain": [
       "ColumnTransformer(transformers=[('categories', OneHotEncoder(dtype='int'),\n",
       "                                 ['city']),\n",
       "                                ('title_bow', CountVectorizer(), 'title')])"
      ]
     },
     "execution_count": 21,
     "metadata": {},
     "output_type": "execute_result"
    }
   ],
   "source": [
    "column_trans = ColumnTransformer(\n",
    "    # -------------------------------------------------------------------------\n",
    "    # List of (name, transformer, columns) tuples specifying the transformer\n",
    "    # objects to be applied to subsets of the data.\n",
    "    transformers=[\n",
    "        (\"categories\", OneHotEncoder(dtype=\"int\"), [\"city\"]),\n",
    "        (\"title_bow\", CountVectorizer(), \"title\"),\n",
    "    ],\n",
    "    # -------------------------------------------------------------------------\n",
    "    # By default, only the specified columns in transformers are transformed\n",
    "    # and combined in the output, and the non-specified columns are dropped.\n",
    "    # (default of 'drop'). By specifying remainder='passthrough', all remaining\n",
    "    # columns that were not specified in transformers will be automatically\n",
    "    # passed through.\n",
    "    remainder=\"drop\",\n",
    ")\n",
    "\n",
    "column_trans.fit(X)"
   ]
  },
  {
   "cell_type": "code",
   "execution_count": 22,
   "id": "c87ae1b9",
   "metadata": {},
   "outputs": [
    {
     "data": {
      "text/plain": [
       "['categories__x0_London',\n",
       " 'categories__x0_Paris',\n",
       " 'categories__x0_Sallisaw',\n",
       " 'title_bow__bow',\n",
       " 'title_bow__feast',\n",
       " 'title_bow__grapes',\n",
       " 'title_bow__his',\n",
       " 'title_bow__how',\n",
       " 'title_bow__last',\n",
       " 'title_bow__learned',\n",
       " 'title_bow__moveable',\n",
       " 'title_bow__of',\n",
       " 'title_bow__the',\n",
       " 'title_bow__trick',\n",
       " 'title_bow__watson',\n",
       " 'title_bow__wrath']"
      ]
     },
     "execution_count": 22,
     "metadata": {},
     "output_type": "execute_result"
    }
   ],
   "source": [
    "#\n",
    "# Nombres de las columnas transformadas\n",
    "#\n",
    "column_trans.get_feature_names()"
   ]
  },
  {
   "cell_type": "code",
   "execution_count": 23,
   "id": "d16937de",
   "metadata": {},
   "outputs": [
    {
     "data": {
      "text/plain": [
       "array([[1, 0, 0, 1, 0, 0, 1, 0, 1, 0, 0, 0, 0, 0, 0, 0],\n",
       "       [1, 0, 0, 0, 0, 0, 0, 1, 0, 1, 0, 0, 1, 1, 1, 0],\n",
       "       [0, 1, 0, 0, 1, 0, 0, 0, 0, 0, 1, 0, 0, 0, 0, 0],\n",
       "       [0, 0, 1, 0, 0, 1, 0, 0, 0, 0, 0, 1, 1, 0, 0, 1]], dtype=int64)"
      ]
     },
     "execution_count": 23,
     "metadata": {},
     "output_type": "execute_result"
    }
   ],
   "source": [
    "#\n",
    "# X transformado\n",
    "#\n",
    "column_trans.transform(X).toarray()"
   ]
  },
  {
   "cell_type": "code",
   "execution_count": 25,
   "id": "988d004d",
   "metadata": {},
   "outputs": [
    {
     "data": {
      "text/html": [
       "<div>\n",
       "<style scoped>\n",
       "    .dataframe tbody tr th:only-of-type {\n",
       "        vertical-align: middle;\n",
       "    }\n",
       "\n",
       "    .dataframe tbody tr th {\n",
       "        vertical-align: top;\n",
       "    }\n",
       "\n",
       "    .dataframe thead th {\n",
       "        text-align: right;\n",
       "    }\n",
       "</style>\n",
       "<table border=\"1\" class=\"dataframe\">\n",
       "  <thead>\n",
       "    <tr style=\"text-align: right;\">\n",
       "      <th></th>\n",
       "      <th>categories__x0_London</th>\n",
       "      <th>categories__x0_Paris</th>\n",
       "      <th>categories__x0_Sallisaw</th>\n",
       "      <th>title_bow__bow</th>\n",
       "      <th>title_bow__feast</th>\n",
       "      <th>title_bow__grapes</th>\n",
       "      <th>title_bow__his</th>\n",
       "      <th>title_bow__how</th>\n",
       "      <th>title_bow__last</th>\n",
       "      <th>title_bow__learned</th>\n",
       "      <th>title_bow__moveable</th>\n",
       "      <th>title_bow__of</th>\n",
       "      <th>title_bow__the</th>\n",
       "      <th>title_bow__trick</th>\n",
       "      <th>title_bow__watson</th>\n",
       "      <th>title_bow__wrath</th>\n",
       "    </tr>\n",
       "  </thead>\n",
       "  <tbody>\n",
       "    <tr>\n",
       "      <th>0</th>\n",
       "      <td>1</td>\n",
       "      <td>0</td>\n",
       "      <td>0</td>\n",
       "      <td>1</td>\n",
       "      <td>0</td>\n",
       "      <td>0</td>\n",
       "      <td>1</td>\n",
       "      <td>0</td>\n",
       "      <td>1</td>\n",
       "      <td>0</td>\n",
       "      <td>0</td>\n",
       "      <td>0</td>\n",
       "      <td>0</td>\n",
       "      <td>0</td>\n",
       "      <td>0</td>\n",
       "      <td>0</td>\n",
       "    </tr>\n",
       "    <tr>\n",
       "      <th>1</th>\n",
       "      <td>1</td>\n",
       "      <td>0</td>\n",
       "      <td>0</td>\n",
       "      <td>0</td>\n",
       "      <td>0</td>\n",
       "      <td>0</td>\n",
       "      <td>0</td>\n",
       "      <td>1</td>\n",
       "      <td>0</td>\n",
       "      <td>1</td>\n",
       "      <td>0</td>\n",
       "      <td>0</td>\n",
       "      <td>1</td>\n",
       "      <td>1</td>\n",
       "      <td>1</td>\n",
       "      <td>0</td>\n",
       "    </tr>\n",
       "    <tr>\n",
       "      <th>2</th>\n",
       "      <td>0</td>\n",
       "      <td>1</td>\n",
       "      <td>0</td>\n",
       "      <td>0</td>\n",
       "      <td>1</td>\n",
       "      <td>0</td>\n",
       "      <td>0</td>\n",
       "      <td>0</td>\n",
       "      <td>0</td>\n",
       "      <td>0</td>\n",
       "      <td>1</td>\n",
       "      <td>0</td>\n",
       "      <td>0</td>\n",
       "      <td>0</td>\n",
       "      <td>0</td>\n",
       "      <td>0</td>\n",
       "    </tr>\n",
       "    <tr>\n",
       "      <th>3</th>\n",
       "      <td>0</td>\n",
       "      <td>0</td>\n",
       "      <td>1</td>\n",
       "      <td>0</td>\n",
       "      <td>0</td>\n",
       "      <td>1</td>\n",
       "      <td>0</td>\n",
       "      <td>0</td>\n",
       "      <td>0</td>\n",
       "      <td>0</td>\n",
       "      <td>0</td>\n",
       "      <td>1</td>\n",
       "      <td>1</td>\n",
       "      <td>0</td>\n",
       "      <td>0</td>\n",
       "      <td>1</td>\n",
       "    </tr>\n",
       "  </tbody>\n",
       "</table>\n",
       "</div>"
      ],
      "text/plain": [
       "   categories__x0_London  categories__x0_Paris  categories__x0_Sallisaw  \\\n",
       "0                      1                     0                        0   \n",
       "1                      1                     0                        0   \n",
       "2                      0                     1                        0   \n",
       "3                      0                     0                        1   \n",
       "\n",
       "   title_bow__bow  title_bow__feast  title_bow__grapes  title_bow__his  \\\n",
       "0               1                 0                  0               1   \n",
       "1               0                 0                  0               0   \n",
       "2               0                 1                  0               0   \n",
       "3               0                 0                  1               0   \n",
       "\n",
       "   title_bow__how  title_bow__last  title_bow__learned  title_bow__moveable  \\\n",
       "0               0                1                   0                    0   \n",
       "1               1                0                   1                    0   \n",
       "2               0                0                   0                    1   \n",
       "3               0                0                   0                    0   \n",
       "\n",
       "   title_bow__of  title_bow__the  title_bow__trick  title_bow__watson  \\\n",
       "0              0               0                 0                  0   \n",
       "1              0               1                 1                  1   \n",
       "2              0               0                 0                  0   \n",
       "3              1               1                 0                  0   \n",
       "\n",
       "   title_bow__wrath  \n",
       "0                 0  \n",
       "1                 0  \n",
       "2                 0  \n",
       "3                 1  "
      ]
     },
     "execution_count": 25,
     "metadata": {},
     "output_type": "execute_result"
    }
   ],
   "source": [
    "#\n",
    "# Visualización como un dataframe\n",
    "#\n",
    "pd.DataFrame(\n",
    "    column_trans.transform(X).toarray(),\n",
    "    columns=column_trans.get_feature_names(),\n",
    ")"
   ]
  },
  {
   "attachments": {},
   "cell_type": "markdown",
   "id": "e99aeca0",
   "metadata": {},
   "source": [
    "## 0.4.4.3 Selección de columnas basadas en su tipo"
   ]
  },
  {
   "cell_type": "code",
   "execution_count": 26,
   "id": "54c41f39",
   "metadata": {},
   "outputs": [
    {
     "data": {
      "text/plain": [
       "array([[ 0.90453403,  0.        ,  1.        ,  0.        ,  0.        ],\n",
       "       [-1.50755672,  1.41421356,  1.        ,  0.        ,  0.        ],\n",
       "       [-0.30151134,  0.        ,  0.        ,  1.        ,  0.        ],\n",
       "       [ 0.90453403, -1.41421356,  0.        ,  0.        ,  1.        ]])"
      ]
     },
     "execution_count": 26,
     "metadata": {},
     "output_type": "execute_result"
    }
   ],
   "source": [
    "ct = ColumnTransformer(\n",
    "    [\n",
    "        (\"scale\", StandardScaler(), make_column_selector(dtype_include=np.number)),\n",
    "        (\n",
    "            \"onehot\",\n",
    "            OneHotEncoder(),\n",
    "            make_column_selector(pattern=\"city\", dtype_include=object),\n",
    "        ),\n",
    "    ]\n",
    ")\n",
    "ct.fit_transform(X)"
   ]
  },
  {
   "attachments": {},
   "cell_type": "markdown",
   "id": "e710907a",
   "metadata": {},
   "source": [
    "## 0.4.4.4 Uso de “passthrough”"
   ]
  },
  {
   "cell_type": "code",
   "execution_count": 27,
   "id": "59a06b7b",
   "metadata": {},
   "outputs": [
    {
     "data": {
      "text/plain": [
       "array([[1, 0, 0, 1, 0, 0, 1, 0, 1, 0, 0, 0, 0, 0, 0, 0, 5, 4],\n",
       "       [1, 0, 0, 0, 0, 0, 0, 1, 0, 1, 0, 0, 1, 1, 1, 0, 3, 5],\n",
       "       [0, 1, 0, 0, 1, 0, 0, 0, 0, 0, 1, 0, 0, 0, 0, 0, 4, 4],\n",
       "       [0, 0, 1, 0, 0, 1, 0, 0, 0, 0, 0, 1, 1, 0, 0, 1, 5, 3]],\n",
       "      dtype=int64)"
      ]
     },
     "execution_count": 27,
     "metadata": {},
     "output_type": "execute_result"
    }
   ],
   "source": [
    "#\n",
    "# Copia de las columnas no transformadas a la matriz\n",
    "# de salida\n",
    "#\n",
    "column_trans = ColumnTransformer(\n",
    "    [\n",
    "        (\"city_category\", OneHotEncoder(dtype=\"int\"), [\"city\"]),\n",
    "        (\"title_bow\", CountVectorizer(), \"title\"),\n",
    "    ],\n",
    "    remainder=\"passthrough\",\n",
    ")\n",
    "\n",
    "column_trans.fit_transform(X)"
   ]
  },
  {
   "attachments": {},
   "cell_type": "markdown",
   "id": "208c7d68",
   "metadata": {},
   "source": [
    "## 0.4.4.5 Aplicación de un transformdor por defecto"
   ]
  },
  {
   "cell_type": "code",
   "execution_count": 28,
   "id": "323c9654",
   "metadata": {},
   "outputs": [
    {
     "data": {
      "text/plain": [
       "array([[1. , 0.5],\n",
       "       [0. , 1. ],\n",
       "       [0.5, 0.5],\n",
       "       [1. , 0. ]])"
      ]
     },
     "execution_count": 28,
     "metadata": {},
     "output_type": "execute_result"
    }
   ],
   "source": [
    "column_trans = ColumnTransformer(\n",
    "    [\n",
    "        (\"city_category\", OneHotEncoder(), [\"city\"]),\n",
    "        (\"title_bow\", CountVectorizer(), \"title\"),\n",
    "    ],\n",
    "    remainder=MinMaxScaler(),\n",
    ")\n",
    "\n",
    "column_trans.fit_transform(X)[:, -2:]"
   ]
  },
  {
   "attachments": {},
   "cell_type": "markdown",
   "id": "cc3a7b55",
   "metadata": {},
   "source": [
    "## 0.4.4.6 Creación de un tranformador con make_column_transformer"
   ]
  },
  {
   "cell_type": "code",
   "execution_count": 29,
   "id": "e221e741",
   "metadata": {},
   "outputs": [
    {
     "data": {
      "text/plain": [
       "ColumnTransformer(remainder=MinMaxScaler(),\n",
       "                  transformers=[('onehotencoder', OneHotEncoder(), ['city']),\n",
       "                                ('countvectorizer', CountVectorizer(),\n",
       "                                 'title')])"
      ]
     },
     "execution_count": 29,
     "metadata": {},
     "output_type": "execute_result"
    }
   ],
   "source": [
    "column_trans = make_column_transformer(\n",
    "    (OneHotEncoder(), [\"city\"]),\n",
    "    (CountVectorizer(), \"title\"),\n",
    "    remainder=MinMaxScaler(),\n",
    ")\n",
    "\n",
    "column_trans"
   ]
  },
  {
   "cell_type": "code",
   "execution_count": 30,
   "id": "6f2f003d",
   "metadata": {},
   "outputs": [
    {
     "name": "stdout",
     "output_type": "stream",
     "text": [
      "ok_\n"
     ]
    }
   ],
   "source": [
    "print('ok_')"
   ]
  }
 ],
 "metadata": {
  "kernelspec": {
   "display_name": "Python 3 (ipykernel)",
   "language": "python",
   "name": "python3"
  },
  "language_info": {
   "codemirror_mode": {
    "name": "ipython",
    "version": 3
   },
   "file_extension": ".py",
   "mimetype": "text/x-python",
   "name": "python",
   "nbconvert_exporter": "python",
   "pygments_lexer": "ipython3",
   "version": "3.11.0"
  },
  "vscode": {
   "interpreter": {
    "hash": "5238573367df39f7286bb46f9ff5f08f63a01a80960060ce41e3c79b190280fa"
   }
  }
 },
 "nbformat": 4,
 "nbformat_minor": 5
}
